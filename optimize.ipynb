{
 "cells": [
  {
   "cell_type": "code",
   "execution_count": 280,
   "metadata": {},
   "outputs": [],
   "source": [
    "import numpy as np\n",
    "import os\n",
    "import random\n",
    "import pickle as pk\n",
    "from interval import interval\n",
    "import scipy.optimize\n",
    "import librosa\n",
    "import matplotlib.pyplot as plt\n",
    "%matplotlib inline"
   ]
  },
  {
   "cell_type": "code",
   "execution_count": 409,
   "metadata": {},
   "outputs": [],
   "source": [
    "def compute_q(pi, d_arr):\n",
    "    return pi.dot(1/(1 + d_arr)) - 1\n",
    "\n",
    "def compute_s(pi, d_arr):\n",
    "    return pi.dot(1/((1 + d_arr)**2)) - 1\n",
    "\n",
    "def compute_est_npc(lamb, pi, d_arr):\n",
    "    return np.exp(lamb * compute_q(pi, d_arr))\n",
    "\n",
    "def compute_st_npc_sq(lamb, pi, d_arr):\n",
    "    return np.exp(lamb * compute_s(pi, d_arr))\n",
    "\n",
    "def fc(x, *args):\n",
    "    pc, d_arr = args\n",
    "    lamb = max(x[0], 0)\n",
    "    pi = np.maximum(x[1:], 0)\n",
    "    pi /= pi.sum()\n",
    "    d_arr = np.array(d_arr)\n",
    "    assert d_arr.shape == pi.shape\n",
    "    \n",
    "    est_npc = compute_est_npc(lamb, pi, d_arr)\n",
    "    est_npc_sq = compute_st_npc_sq(lamb, pi, d_arr)\n",
    "    cnst = pc**2 - 2*pc + 1\n",
    "    \n",
    "    val = cnst + 2*(pc - 1) * est_npc + est_npc_sq\n",
    "    return val\n",
    "\n",
    "\n",
    "def grad_fc(x, *args):\n",
    "    pc, d_arr = args\n",
    "    lamb = max(x[0], 0)\n",
    "    pi = np.maximum(x[1:], 0)\n",
    "    pi /= pi.sum()\n",
    "    d_arr = np.array(d_arr)\n",
    "    \n",
    "    q = compute_q(pi, d_arr)\n",
    "    s = compute_s(pi, d_arr)\n",
    "    est_npc = compute_est_npc(lamb, pi, d_arr)\n",
    "    est_npc_sq = compute_st_npc_sq(lamb, pi, d_arr)\n",
    "    \n",
    "    grad = np.zeros_like(x)\n",
    "    grad[0] = 2 * (pc - 1) * q * est_npc + s * est_npc_sq\n",
    "    for idx, d in enumerate(d_arr):\n",
    "        grad[idx+1] = 2 * (pc - 1) * (lamb / (1 + d)) * est_npc + (lamb / ((1 + d)**2)) * est_npc_sq\n",
    "    \n",
    "    return grad\n",
    "\n",
    "\n",
    "def hess_fc(x, *args):\n",
    "    pc, d_arr = args\n",
    "    lamb = max(x[0], 0)\n",
    "    pi = np.maximum(x[1:], 0)\n",
    "    pi /= pi.sum()\n",
    "    d_arr = np.array(d_arr)\n",
    "    \n",
    "    q = compute_q(pi, d_arr)\n",
    "    s = compute_s(pi, d_arr)\n",
    "    est_npc = compute_est_npc(lamb, pi, d_arr)\n",
    "    est_npc_sq = compute_st_npc_sq(lamb, pi, d_arr)\n",
    "    \n",
    "    hess = np.zeros((x.shape[0], x.shape[0]))\n",
    "    \n",
    "    hess[0, 0] = 2 * (pc - 1) * (q**2) * est_npc + (s**2) * est_npc_sq\n",
    "    for idx1, d1 in enumerate(d_arr):\n",
    "        t1 = 2 * ((pc - 1)/(1 + d1)) * est_npc * (1 + lamb * est_npc)\n",
    "        t2 = (1 / ((1 + d1)**2)) * est_npc_sq * (1 + lamb * est_npc_sq)\n",
    "        val = t1 + t2\n",
    "        \n",
    "        hess[0, idx1+1] = val\n",
    "        hess[idx1+1, 0] = val\n",
    "        \n",
    "        for idx2, d2 in enumerate(d_arr):\n",
    "            if idx2 < idx1:\n",
    "                continue\n",
    "            t1 = 2 * (pc - 1) * lamb**2/((1 + d1)*(1 + d2)) * est_npc\n",
    "            t2 = lamb**2/(((1 + d1)**2)*((1 + d2)**2)) * est_npc_sq\n",
    "            val = t1 + t2\n",
    "            hess[idx1+1, idx2+1] = val\n",
    "            hess[idx2+1, idx1+1] = val\n",
    "        \n",
    "    return hess"
   ]
  },
  {
   "cell_type": "code",
   "execution_count": 166,
   "metadata": {},
   "outputs": [],
   "source": [
    "soundscape_duration = 10.0"
   ]
  },
  {
   "cell_type": "code",
   "execution_count": 410,
   "metadata": {},
   "outputs": [],
   "source": [
    "def get_class_parameters(class_dir, pc, soundscape_duration):\n",
    "    d_arr = []\n",
    "    for fname in os.listdir(class_dir):\n",
    "        clip_path = os.path.join(class_dir, fname)\n",
    "        clip_duration = librosa.get_duration(filename=clip_path)\n",
    "        d_arr.append(clip_duration / soundscape_duration)\n",
    "\n",
    "    # Only consider unique durations\n",
    "    d_arr = np.unique(np.array(d_arr))\n",
    "    \n",
    "    Nc = d_arr.shape[0]\n",
    "    \n",
    "    A = np.vstack((\n",
    "        np.eye(Nc+1),\n",
    "        np.concatenate((np.array([0,]), np.ones(Nc))),\n",
    "        np.concatenate((np.array([0,]), -np.ones(Nc))),\n",
    "    )).astype(np.float32)\n",
    "\n",
    "    ub = (np.ones((Nc+3,)) * float('inf')).astype(np.float32)\n",
    "    lb = np.concatenate((np.zeros((Nc+1)), [1, -1])).astype(np.float32)\n",
    "    \n",
    "    constraints = scipy.optimize.LinearConstraint(A, lb, ub, keep_feasible=True)\n",
    "    lamb_0 = 5.0\n",
    "    x0 = np.concatenate(([lamb_0], np.ones((Nc,))/Nc)).astype(np.float32)\n",
    "    \n",
    "    # Ensure that elements of pi sum to 1 w.r.t. machine precision\n",
    "    x0[1] += (1 - np.dot(x0[1:], np.ones((Nc,))))\n",
    "    res = scipy.optimize.minimize(fc,\n",
    "                            x0,\n",
    "                            args=(pc, d_arr),\n",
    "                            jac=grad_fc,\n",
    "                            hess=hess_fc,\n",
    "                            constraints=constraints)\n",
    "    lamb_c = res.x[0]\n",
    "    pi_c = res.x[1:]\n",
    "    \n",
    "    return (lamb_c, pi_c, d_arr), res.fun"
   ]
  },
  {
   "cell_type": "code",
   "execution_count": 188,
   "metadata": {
    "collapsed": true
   },
   "outputs": [
    {
     "ename": "KeyboardInterrupt",
     "evalue": "",
     "output_type": "error",
     "traceback": [
      "\u001b[0;31m---------------------------------------------------------------------------\u001b[0m",
      "\u001b[0;31mKeyboardInterrupt\u001b[0m                         Traceback (most recent call last)",
      "\u001b[0;32m<ipython-input-188-54d14f78b59b>\u001b[0m in \u001b[0;36m<module>\u001b[0;34m\u001b[0m\n\u001b[1;32m      3\u001b[0m \u001b[0;34m\u001b[0m\u001b[0m\n\u001b[1;32m      4\u001b[0m \u001b[0;32mwith\u001b[0m \u001b[0mopen\u001b[0m\u001b[0;34m(\u001b[0m\u001b[0msensor_pred_path\u001b[0m\u001b[0;34m,\u001b[0m \u001b[0;34m'rb'\u001b[0m\u001b[0;34m)\u001b[0m \u001b[0;32mas\u001b[0m \u001b[0mf\u001b[0m\u001b[0;34m:\u001b[0m\u001b[0;34m\u001b[0m\u001b[0;34m\u001b[0m\u001b[0m\n\u001b[0;32m----> 5\u001b[0;31m     \u001b[0msensor_pred\u001b[0m \u001b[0;34m=\u001b[0m \u001b[0mpk\u001b[0m\u001b[0;34m.\u001b[0m\u001b[0mload\u001b[0m\u001b[0;34m(\u001b[0m\u001b[0mf\u001b[0m\u001b[0;34m)\u001b[0m\u001b[0;34m\u001b[0m\u001b[0;34m\u001b[0m\u001b[0m\n\u001b[0m",
      "\u001b[0;31mKeyboardInterrupt\u001b[0m: "
     ]
    }
   ],
   "source": [
    "sensor_pred_path = 'sensor_predictions.pkl'\n",
    "dataset_dir = './us8k-foreground-ust/train'\n",
    "\n",
    "with open(sensor_pred_path, 'rb') as f:\n",
    "    sensor_pred = pk.load(f)"
   ]
  },
  {
   "cell_type": "code",
   "execution_count": 190,
   "metadata": {},
   "outputs": [],
   "source": [
    "labels = [\n",
    "    \"engine\",\n",
    "    \"machinery-impact\",\n",
    "    \"alert-signal\",\n",
    "    \"music\",\n",
    "    \"human-voice\",\n",
    "    \"dog\",\n",
    "]"
   ]
  },
  {
   "cell_type": "code",
   "execution_count": 397,
   "metadata": {},
   "outputs": [],
   "source": [
    "sensor_id = \"b827eb252949\""
   ]
  },
  {
   "cell_type": "code",
   "execution_count": 378,
   "metadata": {},
   "outputs": [],
   "source": [
    "hour_blocks = [\"21-3\", \"3-9\", \"9-15\", \"15-21\"]"
   ]
  },
  {
   "cell_type": "code",
   "execution_count": 412,
   "metadata": {
    "scrolled": false
   },
   "outputs": [],
   "source": [
    "raw_params_dict = {}\n",
    "bin_params_dict = {}\n",
    "\n",
    "for sensor_id, sensor_dict in sensor_pred.items():\n",
    "    raw_pred_dict = {x: [] for x in hour_blocks}\n",
    "    bin_pred_dict = {x: [] for x in hour_blocks}\n",
    "    \n",
    "    for time_tuple, pred_dict in sensor_dict.items():\n",
    "        hour_block = time_tuple[-1]\n",
    "        raw_pred_dict[hour_block].append(pred_dict['raw'])\n",
    "        bin_pred_dict[hour_block].append(pred_dict['bin'])\n",
    "        \n",
    "        \n",
    "    for hour_block in hour_blocks:\n",
    "        if len(raw_pred_dict[hour_block]) == 0:\n",
    "            continue\n",
    "        raw_p_list = np.concatenate(raw_pred_dict[hour_block]).mean(axis=0)\n",
    "        bin_p_list = np.concatenate(bin_pred_dict[hour_block]).mean(axis=0)\n",
    "        \n",
    "        for class_name in os.listdir(dataset_dir):\n",
    "            name = \"_\".join([class_name, sensor_id, hour_block])\n",
    "            class_dir = os.path.join(dataset_dir, class_name)\n",
    "            cls_idx = labels.index(class_name)\n",
    "\n",
    "            raw_pc = raw_p_list[cls_idx]\n",
    "            bin_pc = bin_p_list[cls_idx]\n",
    "            (lamb_c_raw, pi_c_raw, d_arr), obj_raw = get_class_parameters(class_dir, raw_pc, soundscape_duration)\n",
    "            (lamb_c_bin, pi_c_bin, _), obj_bin = get_class_parameters(class_dir, bin_pc, soundscape_duration)\n",
    "\n",
    "            raw_params_dict[name] = {\n",
    "                'class': class_name,\n",
    "                'lamb_c': lamb_c_raw,\n",
    "                'pi_c': pi_c_raw,\n",
    "                'obj': obj_raw,\n",
    "                'durations': d_arr,\n",
    "                'pc': raw_pc\n",
    "            }\n",
    "            bin_params_dict[name] = {\n",
    "                'class': class_name,\n",
    "                'lamb_c': lamb_c_bin,\n",
    "                'pi_c': pi_c_bin,\n",
    "                'obj': obj_bin,\n",
    "                'durations': d_arr,\n",
    "                'pc': bin_pc\n",
    "            }\n",
    "\n"
   ]
  },
  {
   "cell_type": "code",
   "execution_count": 381,
   "metadata": {},
   "outputs": [],
   "source": [
    "raw_params_path = 'raw_params.pkl'\n",
    "bin_params_path = 'bin_params.pkl'\n",
    "with open(raw_params_path, 'wb') as f:\n",
    "    pk.dump(raw_params_dict, f)\n",
    "with open(bin_params_path, 'wb') as f:\n",
    "    pk.dump(bin_params_dict, f)"
   ]
  },
  {
   "cell_type": "code",
   "execution_count": 423,
   "metadata": {},
   "outputs": [],
   "source": [
    "import matplotlib\n",
    "matplotlib.rcParams.update({'font.size': 18})"
   ]
  },
  {
   "cell_type": "code",
   "execution_count": 426,
   "metadata": {
    "scrolled": true
   },
   "outputs": [
    {
     "data": {
      "image/png": "[encoded data removed]",
      "text/plain": [
       "<Figure size 432x288 with 1 Axes>"
      ]
     },
     "metadata": {
      "needs_background": "light"
     },
     "output_type": "display_data"
    },
    {
     "data": {
      "image/png": "[encoded data removed]",
      "text/plain": [
       "<Figure size 432x288 with 1 Axes>"
      ]
     },
     "metadata": {
      "needs_background": "light"
     },
     "output_type": "display_data"
    },
    {
     "data": {
      "image/png": "[encoded data removed]",
      "text/plain": [
       "<Figure size 432x288 with 1 Axes>"
      ]
     },
     "metadata": {
      "needs_background": "light"
     },
     "output_type": "display_data"
    },
    {
     "data": {
      "image/png": "[encoded data removed]",
      "text/plain": [
       "<Figure size 432x288 with 1 Axes>"
      ]
     },
     "metadata": {
      "needs_background": "light"
     },
     "output_type": "display_data"
    },
    {
     "data": {
      "image/png": "[encoded data removed]",
      "text/plain": [
       "<Figure size 432x288 with 1 Axes>"
      ]
     },
     "metadata": {
      "needs_background": "light"
     },
     "output_type": "display_data"
    },
    {
     "data": {
      "image/png": "[encoded data removed]",
      "text/plain": [
       "<Figure size 432x288 with 1 Axes>"
      ]
     },
     "metadata": {
      "needs_background": "light"
     },
     "output_type": "display_data"
    }
   ],
   "source": [
    "for class_name in os.listdir(dataset_dir):\n",
    "    class_dir = os.path.join(dataset_dir, class_name)\n",
    "    d_arr = []\n",
    "    for fname in os.listdir(class_dir):\n",
    "        clip_path = os.path.join(class_dir, fname)\n",
    "        clip_duration = librosa.get_duration(filename=clip_path)\n",
    "        d_arr.append(clip_duration)\n",
    "        \n",
    "    num_unique = np.unique(d_arr).shape[0]\n",
    "\n",
    "    fig = plt.figure()\n",
    "    plt.hist(d_arr, bins=20)\n",
    "    plt.title(class_name + \"\\nduration historgram\\n(unique: {})\".format(num_unique))\n",
    "    plt.xlabel('Duration (s)')\n",
    "    plt.ylabel('Count')\n",
    "    plt.xlim([0, 4.15])\n"
   ]
  },
  {
   "cell_type": "code",
   "execution_count": 440,
   "metadata": {},
   "outputs": [],
   "source": [
    "obj_list = []\n",
    "class_obj_list = {x: [] for x in labels}\n",
    "\n",
    "for params_name, params_dict in raw_params_dict.items():\n",
    "    lamb_c = max(params_dict['lamb_c'], 0.0)\n",
    "    pi_c = np.maximum(params_dict['pi_c'], 0)\n",
    "    pi_c = pi_c / pi_c.sum()\n",
    "    obj = params_dict['obj']\n",
    "    durations = params_dict[\"durations\"] * soundscape_duration\n",
    "    \n",
    "    \n",
    "    d_arr = params_dict[\"durations\"]\n",
    "    class_name = params_name.split('_')[0]\n",
    "    cls_idx = labels.index(class_name)\n",
    "\n",
    "    pc = params_dict[\"pc\"]\n",
    "    pc_est = 1 - compute_est_npc(lamb_c, pi_c, d_arr)\n",
    "    obj = np.abs(pc - pc_est)**2\n",
    "    obj_list.append(obj)\n",
    "    \n",
    "    class_obj_list[params_name.split('_')[0]].append(obj)"
   ]
  },
  {
   "cell_type": "code",
   "execution_count": 445,
   "metadata": {},
   "outputs": [
    {
     "name": "stdout",
     "output_type": "stream",
     "text": [
      "Overall: 0.0004952039901258013 +/- 0.0008923369937788718\n",
      "engine: 0.000174603269639347 +/- 0.0001900508904501252\n",
      "machinery-impact: 0.00021736859264860078 +/- 8.883557277832939e-05\n",
      "alert-signal: 7.777442362050428e-05 +/- 6.255466404637659e-05\n",
      "music: 3.4132615786296884e-05 +/- 6.1487699805943565e-06\n",
      "human-voice: 0.0024226394807255244 +/- 0.0004875878223271372\n",
      "dog: 4.47055583345351e-05 +/- 8.438004641232411e-05\n"
     ]
    }
   ],
   "source": [
    "print(\"Overall: {} +/- {}\".format(np.mean(obj_list), np.std(obj_list)))\n",
    "for label, objlist in class_obj_list.items():\n",
    "    print(\"{}: {} +/- {}\".format(label, np.mean(objlist), np.std(objlist)))\n"
   ]
  },
  {
   "cell_type": "code",
   "execution_count": null,
   "metadata": {
    "scrolled": true
   },
   "outputs": [],
   "source": [
    "results_dir = './results_plots'\n",
    "os.makedirs(results_dir, exist_ok=True)\n",
    "\n",
    "for params_name, params_dict in raw_params_dict.items():\n",
    "    if \"b827eb252949_9-15\" not in params_name:\n",
    "        continue\n",
    "    \n",
    "    lamb_c = max(params_dict['lamb_c'], 0.0)\n",
    "    pi_c = np.maximum(params_dict['pi_c'], 0)\n",
    "    pi_c = pi_c / pi_c.sum()\n",
    "    obj = params_dict['obj']\n",
    "    durations = params_dict[\"durations\"] * soundscape_duration\n",
    "    \n",
    "    d_arr = params_dict[\"durations\"]\n",
    "    class_name = params_name.split('_')[0]\n",
    "    cls_idx = labels.index(class_name)\n",
    "\n",
    "    pc = params_dict[\"pc\"]\n",
    "    pc_est = 1 - compute_est_npc(lamb_c, pi_c, d_arr)\n",
    "    \n",
    "    fig = plt.figure(figsize=(9,7))\n",
    "    ax = plt.gca()\n",
    "    ax.scatter(durations, pi_c)\n",
    "    ax.set_title(\"Fitted parameters: {}\\n$\\lambda_c$ = {}\\n$p_c$ = {}\\n$\\hat p_c$ = {}\\n\".format(params_name, lamb_c, pc, pc_est))\n",
    "    ax.set_ylabel(\"Clip probabilities\")\n",
    "    ax.set_xlabel(\"Clip duration\")\n",
    "    ax.set_xlim(xmin=0, xmax=4)\n",
    "    ax.set_ylim(ymin=0, ymax=1)\n",
    "    plt.tight_layout()\n",
    "    plt.savefig(os.path.join(results_dir, params_name + \".png\"))\n",
    "    plt.close()"
   ]
  },
  {
   "cell_type": "code",
   "execution_count": 458,
   "metadata": {
    "scrolled": false
   },
   "outputs": [],
   "source": [
    "results_dir = './results_plots'\n",
    "os.makedirs(results_dir, exist_ok=True)\n",
    "\n",
    "figs_per_img = 15\n",
    "ncols = 3\n",
    "nrows = figs_per_img // ncols\n",
    "\n",
    "for idx, (params_name, params_dict) in enumerate(raw_params_dict.items()):\n",
    "    subplot_idx = idx % figs_per_img\n",
    "    if subplot_idx == 0:\n",
    "        if idx > 0:\n",
    "            plt.savefig(os.path.join(results_dir, 'results_{}.png'.format((idx - 1) // figs_per_img)))\n",
    "            plt.close()\n",
    "        fig, axes = plt.subplots(nrows=nrows, ncols=3,\n",
    "                           figsize=(9*ncols, 7*nrows))\n",
    "        \n",
    "    col_idx = subplot_idx % ncols\n",
    "    row_idx = subplot_idx // ncols\n",
    "    ax = axes[row_idx, col_idx]\n",
    "    \n",
    "    lamb_c = max(params_dict['lamb_c'], 0.0)\n",
    "    pi_c = np.maximum(params_dict['pi_c'], 0)\n",
    "    pi_c = pi_c / pi_c.sum()\n",
    "    obj = params_dict['obj']\n",
    "    durations = params_dict[\"durations\"] * soundscape_duration\n",
    "    \n",
    "    d_arr = params_dict[\"durations\"]\n",
    "    class_name = params_name.split('_')[0]\n",
    "    cls_idx = labels.index(class_name)\n",
    "\n",
    "    pc = params_dict[\"pc\"]\n",
    "    pc_est = 1 - compute_est_npc(lamb_c, pi_c, d_arr)\n",
    "    \n",
    "    ax.scatter(durations, pi_c)\n",
    "    ax.set_title(\"Fitted parameters: {}\\n$\\lambda_c$ = {}\\n$p_c$ = {}\\n$\\hat p_c$ = {}\\n\".format(params_name, lamb_c, pc, pc_est))\n",
    "    ax.set_ylabel(\"Clip probabilities\")\n",
    "    ax.set_xlabel(\"Clip duration\")\n",
    "    ax.set_xlim(xmin=0, xmax=4)\n",
    "    ax.set_ylim(ymin=0, ymax=1)\n",
    "    plt.tight_layout()\n",
    "\n",
    "idx += 1\n",
    "plt.savefig(os.path.join(results_dir, 'results_{}.png'.format((idx - 1) // figs_per_img)))\n",
    "plt.close()"
   ]
  },
  {
   "cell_type": "code",
   "execution_count": 3,
   "metadata": {},
   "outputs": [],
   "source": [
    "def compute_coverage(x, seg_len=1):\n",
    "    line_seg = interval[0, seg_len]\n",
    "    x = line_seg & x \n",
    "    total_len = 0.0 \n",
    "    for comp in x.components: \n",
    "        start = comp.extrema[0][0] \n",
    "        end = comp.extrema[1][0] \n",
    "        total_len += end - start \n",
    "    return total_len / seg_len \n"
   ]
  },
  {
   "cell_type": "code",
   "execution_count": 26,
   "metadata": {},
   "outputs": [],
   "source": [
    "def simulate(lamb_c, pi_c, d_arr, n_trials):\n",
    "    trials = []\n",
    "    for _ in range(n_trials):\n",
    "        n_intervals = np.random.poisson(lamb_c)\n",
    "        union_int = interval()\n",
    "        int_len = np.random.choice(d_arr, p=pi_c)\n",
    "        for _ in range(n_intervals):\n",
    "            t0 = np.random.uniform(-int_len, 1.0)\n",
    "            t1 = t0 + int_len\n",
    "            curr_int = interval[t0, t1]\n",
    "            if union_int is None:\n",
    "                union_int = curr_int\n",
    "            else:\n",
    "                union_int = union_int | curr_int\n",
    "        cov = compute_coverage(union_int)\n",
    "        trials.append(cov)\n",
    "    return np.mean(trials)"
   ]
  },
  {
   "cell_type": "code",
   "execution_count": 27,
   "metadata": {},
   "outputs": [
    {
     "name": "stdout",
     "output_type": "stream",
     "text": [
      "p expected: 0.048299553263549955\n",
      "p emperical: 0.0482942282561117\n",
      "p^2 expected: 0.0027768992660009983\n",
      "p^2 emperical: 0.0027862276479216235\n"
     ]
    }
   ],
   "source": [
    "# p_exp_comp = np.exp(lamb * (1/(1+int_len) - 1))\n",
    "# p_exp = 1 - p_exp_comp\n",
    "# p_emp = trials.mean()\n",
    "# p2_exp = np.exp(lamb * (1/(1+int_len)**2 - 1)) - 2 * p_exp_comp + 1\n",
    "# p2_emp = (trials**2).mean()\n",
    "# print(\"p expected: {}\".format(p_exp))\n",
    "# print(\"p emperical: {}\".format(p_emp))\n",
    "# print(\"p^2 expected: {}\".format(p2_exp))\n",
    "# print(\"p^2 emperical: {}\".format(p2_emp))"
   ]
  },
  {
   "cell_type": "code",
   "execution_count": null,
   "metadata": {},
   "outputs": [],
   "source": [
    "n_trials = 20000\n",
    "sim_results = {}\n",
    "for params_name, params_dict in raw_params_dict.items():\n",
    "    lamb_c = params_dict['lamb_c']\n",
    "    pi_c = params_dict['pi_c']\n",
    "    d_arr = params_dict[\"durations\"]\n",
    "    class_name, sensor_id, month, dayofweek, hourblock = params_name.split('_')\n",
    "    time_tuple = (int(month), dayofweek, hourblock)\n",
    "    cls_idx = labels.index(class_name)\n",
    "\n",
    "    pc = sensor_pred[sensor_id][time_tuple]['raw'].sum(axis=0)[cls_idx]\n",
    "    emp_pc = simulate(lamb_c, pi_c, d_arr, n_trials)\n",
    "    \n",
    "    sim_results[params_name] = {\n",
    "        'pc': pc,\n",
    "        'emb_pc' : emp_pc,\n",
    "        'error': (pc - emp_pc)**2\n",
    "    }"
   ]
  },
  {
   "cell_type": "code",
   "execution_count": null,
   "metadata": {},
   "outputs": [],
   "source": []
  }
 ],
 "metadata": {
  "kernelspec": {
   "display_name": "Python 3",
   "language": "python",
   "name": "python3"
  },
  "language_info": {
   "codemirror_mode": {
    "name": "ipython",
    "version": 3
   },
   "file_extension": ".py",
   "mimetype": "text/x-python",
   "name": "python",
   "nbconvert_exporter": "python",
   "pygments_lexer": "ipython3",
   "version": "3.6.10"
  }
 },
 "nbformat": 4,
 "nbformat_minor": 4
}
