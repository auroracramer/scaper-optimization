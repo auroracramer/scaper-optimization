{
 "cells": [
  {
   "cell_type": "code",
   "execution_count": 1,
   "metadata": {},
   "outputs": [
    {
     "name": "stderr",
     "output_type": "stream",
     "text": [
      "Using TensorFlow backend.\n"
     ]
    }
   ],
   "source": [
    "import autopool\n",
    "import numpy as np\n",
    "import pandas as pd\n",
    "import keras\n",
    "import keras.backend as K\n",
    "import json\n",
    "import h5py, pytz, datetime\n",
    "import os\n",
    "from sklearn.metrics import f1_score"
   ]
  },
  {
   "cell_type": "markdown",
   "metadata": {},
   "source": [
    "# Set up timezone"
   ]
  },
  {
   "cell_type": "code",
   "execution_count": 3,
   "metadata": {},
   "outputs": [],
   "source": [
    "nytz = pytz.timezone('US/Eastern')\n",
    "#ts = datetime.datetime.utcfromtimestamp(f['openl3'][0][0])\n",
    "#nytz.localize(ts)"
   ]
  },
  {
   "cell_type": "markdown",
   "metadata": {},
   "source": [
    "# Compute ideal class thresholds"
   ]
  },
  {
   "cell_type": "code",
   "execution_count": 4,
   "metadata": {},
   "outputs": [],
   "source": [
    "label_to_idx = {\n",
    "    \"engine\": 0,\n",
    "    \"machinery-impact\": 1,\n",
    "    \"alert-signal\": 4,\n",
    "    \"music\": 5,\n",
    "    \"human-voice\": 6,\n",
    "    \"dog\": 7\n",
    "}"
   ]
  },
  {
   "cell_type": "code",
   "execution_count": 5,
   "metadata": {},
   "outputs": [],
   "source": [
    "ann_df = pd.read_csv('/beegfs/work/sonyc/ust/annotations/v1.0/annotations.csv')\n",
    "ann_df = ann_df[np.logical_and(ann_df['split'] == 'validate', ann_df['annotator_id'] == 0)]\n",
    "file_list = ann_df['audio_filename'].tolist()\n",
    "label_keys = [\"{}_{}_presence\".format(int(idx)+1, label) for label, idx in label_to_idx.items()]\n",
    "label_keys_wo_presence = [\"{}_{}\".format(int(idx)+1, label) for label, idx in label_to_idx.items()]\n",
    "ann_df = ann_df[label_keys]"
   ]
  },
  {
   "cell_type": "code",
   "execution_count": 6,
   "metadata": {},
   "outputs": [],
   "source": [
    "results_path = \"/beegfs/work/sonyc/ust/models/1.0.0/coarse/output.csv\""
   ]
  },
  {
   "cell_type": "code",
   "execution_count": 7,
   "metadata": {},
   "outputs": [],
   "source": [
    "results = pd.read_csv(results_path)"
   ]
  },
  {
   "cell_type": "code",
   "execution_count": 8,
   "metadata": {},
   "outputs": [],
   "source": [
    "results_files = set(results['audio_filename'].tolist())"
   ]
  },
  {
   "cell_type": "code",
   "execution_count": 9,
   "metadata": {},
   "outputs": [],
   "source": [
    "idxs = [idx for idx, fname in enumerate(file_list) if str(fname) in results_files]"
   ]
  },
  {
   "cell_type": "code",
   "execution_count": 10,
   "metadata": {},
   "outputs": [],
   "source": [
    "gt_arr = []\n",
    "for idx in idxs:\n",
    "    gt_arr.append([ann_df.iloc[idx][key] for key in label_keys])\n",
    "gt_arr = np.array(gt_arr)"
   ]
  },
  {
   "cell_type": "code",
   "execution_count": 11,
   "metadata": {},
   "outputs": [],
   "source": [
    "results_arr = []\n",
    "for idx, row in results.iterrows():\n",
    "    results_arr.append([row[key] for key in label_keys_wo_presence])\n",
    "results_arr = np.array(results_arr)"
   ]
  },
  {
   "cell_type": "code",
   "execution_count": 12,
   "metadata": {},
   "outputs": [],
   "source": [
    "thresholds = []\n",
    "for cls_idx in range(results_arr.shape[1]):\n",
    "    binary_gt = gt_arr[:, cls_idx]\n",
    "    best_f1 = 0.0\n",
    "    best_thresh = None\n",
    "    \n",
    "    for thresh in sorted(results_arr[:, cls_idx]):\n",
    "        binary_pred = (results_arr[:, cls_idx] >= thresh).astype(int)\n",
    "        f1 = f1_score(binary_gt, binary_pred)\n",
    "        if f1 > best_f1:\n",
    "            best_f1 = f1\n",
    "            best_thresh = thresh\n",
    "    thresholds.append(best_thresh)\n",
    "    \n",
    "thresholds = np.array(thresholds)"
   ]
  },
  {
   "cell_type": "code",
   "execution_count": 13,
   "metadata": {},
   "outputs": [],
   "source": [
    "cls_idxs = list(label_to_idx.values())"
   ]
  },
  {
   "cell_type": "code",
   "execution_count": null,
   "metadata": {},
   "outputs": [],
   "source": []
  },
  {
   "cell_type": "markdown",
   "metadata": {},
   "source": [
    "# Load model"
   ]
  },
  {
   "cell_type": "code",
   "execution_count": 14,
   "metadata": {},
   "outputs": [
    {
     "name": "stdout",
     "output_type": "stream",
     "text": [
      "WARNING:tensorflow:From /home/jtc440/miniconda3/envs/ust/lib/python3.6/site-packages/tensorflow/python/framework/op_def_library.py:263: colocate_with (from tensorflow.python.framework.ops) is deprecated and will be removed in a future version.\n",
      "Instructions for updating:\n",
      "Colocations handled automatically by placer.\n",
      "WARNING:tensorflow:From /home/jtc440/miniconda3/envs/ust/lib/python3.6/site-packages/tensorflow/python/ops/math_ops.py:3066: to_int32 (from tensorflow.python.ops.math_ops) is deprecated and will be removed in a future version.\n",
      "Instructions for updating:\n",
      "Use tf.cast instead.\n",
      "WARNING:tensorflow:From /home/jtc440/miniconda3/envs/ust/lib/python3.6/site-packages/tensorflow/python/ops/math_grad.py:102: div (from tensorflow.python.ops.math_ops) is deprecated and will be removed in a future version.\n",
      "Instructions for updating:\n",
      "Deprecated in favor of operator or tf.math.divide.\n"
     ]
    }
   ],
   "source": [
    "model = keras.models.load_model('/beegfs/work/sonyc/ust/models/1.0.0/coarse/full_model_best.h5',\n",
    "                               custom_objects={'AutoPool1D': autopool.AutoPool1D})\n",
    "frame_model = K.function([model.layers[0].input],\n",
    "                         [model.layers[-2].output])"
   ]
  },
  {
   "cell_type": "markdown",
   "metadata": {},
   "source": [
    "# Compute class_priors"
   ]
  },
  {
   "cell_type": "code",
   "execution_count": 32,
   "metadata": {},
   "outputs": [],
   "source": [
    "def get_sensor_predictions(fpath):\n",
    "    pred_dict = {}\n",
    "    with h5py.File(fpath, 'r') as h5:\n",
    "        for ex in h5['openl3']:\n",
    "            ts = datetime.datetime.utcfromtimestamp(ex[0])\n",
    "            ts = nytz.localize(ts)\n",
    "            month = ts.month\n",
    "            dayofweek = \"weekday\" if ts.weekday() < 5 else \"weekend\"\n",
    "            if (21 <= ts.hour < 24) or (0 <= ts.hour < 3):\n",
    "                hourblock = \"21-3\"\n",
    "            elif (3 <= ts.hour < 9):\n",
    "                hourblock = \"3-9\"\n",
    "            elif (9 <= ts.hour < 15):\n",
    "                hourblock = \"9-15\"\n",
    "            elif (15 <= ts.hour < 21):\n",
    "                hourblock = \"15-21\"\n",
    "            \n",
    "            \n",
    "            pred = frame_model([ex[2]])[0].squeeze()[:, cls_idxs]\n",
    "            binary_pred = pred >= thresholds[None, :]\n",
    "            \n",
    "            time_tuple = (month, dayofweek, hourblock)\n",
    "            \n",
    "            if time_tuple not in pred_dict:\n",
    "                pred_dict[time_tuple] = {\n",
    "                    'raw': [],\n",
    "                    'bin': []\n",
    "                }\n",
    "            pred_dict[time_tuple]['raw'].append(pred)\n",
    "            pred_dict[time_tuple]['bin'].append(binary_pred)\n",
    "            \n",
    "    for time_tuple in pred_dict.keys():\n",
    "        if len(pred_dict[time_tuple]['raw']) > 0:\n",
    "            pred_dict[time_tuple]['raw'] = np.concatenate(pred_dict[time_tuple]['raw'])\n",
    "            pred_dict[time_tuple]['bin'] = np.concatenate(pred_dict[time_tuple]['bin'])\n",
    "        else:\n",
    "            pred_dict[time_tuple]['raw'] = np.array([])\n",
    "            pred_dict[time_tuple]['bin'] = np.array([])\n",
    "\n",
    "    return pred_dict"
   ]
  },
  {
   "cell_type": "code",
   "execution_count": 33,
   "metadata": {},
   "outputs": [],
   "source": [
    "features_dir = '/beegfs/work/sonyc/features/openl3/2017'\n",
    "sensor_dict = {}\n",
    "for fname in os.listdir(features_dir):\n",
    "    sensor_id = fname.split('.')[0].split('-')[1]\n",
    "    fpath = os.path.join(features_dir, fname)\n",
    "    sensor_dict[sensor_id] = get_sensor_predictions(fpath)"
   ]
  },
  {
   "cell_type": "code",
   "execution_count": null,
   "metadata": {},
   "outputs": [],
   "source": [
    "import pickle as pk\n",
    "with open('sensor_predictions.pkl', 'wb') as f:\n",
    "    pk.dump(sensor_dict, f, protocol=pk.HIGHEST_PROTOCOL)"
   ]
  },
  {
   "cell_type": "code",
   "execution_count": null,
   "metadata": {},
   "outputs": [],
   "source": []
  }
 ],
 "metadata": {
  "kernelspec": {
   "display_name": "Python 3",
   "language": "python",
   "name": "python3"
  },
  "language_info": {
   "codemirror_mode": {
    "name": "ipython",
    "version": 3
   },
   "file_extension": ".py",
   "mimetype": "text/x-python",
   "name": "python",
   "nbconvert_exporter": "python",
   "pygments_lexer": "ipython3",
   "version": "3.6.10"
  }
 },
 "nbformat": 4,
 "nbformat_minor": 4
}
